{
 "cells": [
  {
   "cell_type": "code",
   "execution_count": 1,
   "id": "3f69d1e6-f7e8-461a-9652-2748aa8fa1e6",
   "metadata": {},
   "outputs": [
    {
     "name": "stderr",
     "output_type": "stream",
     "text": [
      "Setting default log level to \"WARN\".\n",
      "To adjust logging level use sc.setLogLevel(newLevel). For SparkR, use setLogLevel(newLevel).\n",
      "24/03/08 09:12:10 WARN NativeCodeLoader: Unable to load native-hadoop library for your platform... using builtin-java classes where applicable\n"
     ]
    }
   ],
   "source": [
    "# Importing packages\n",
    "import numpy as np\n",
    "import pandas as pd\n",
    "import pyspark\n",
    "from pyspark import SparkConf, SparkContext\n",
    "from pyspark.sql import SparkSession, SQLContext\n",
    "from pyspark.sql.types import *\n",
    "from pyspark.sql import functions as F\n",
    "\n",
    "# Setting up and configuring the SparkSession\n",
    "spark_session = SparkSession\\\n",
    "        .builder\\\n",
    "        .master(\"spark://192.168.2.244:7077\") \\\n",
    "        .appName(\"Group10_DE\")\\\n",
    "        .config(\"spark.dynamicAllocation.enabled\", True)\\\n",
    "        .config(\"spark.dynamicAllocation.shuffleTracking.enabled\",True)\\\n",
    "        .config(\"spark.shuffle.service.enabled\", False)\\\n",
    "        .config(\"spark.dynamicAllocation.executorIdleTimeout\",\"300s\")\\\n",
    "        .config(\"spark.executor.cores\",2)\\\n",
    "        .config(\"spark.driver.port\",9999)\\\n",
    "        .config(\"spark.blockManager.port\",10005)\\\n",
    "        .getOrCreate()\n",
    "\n",
    "# Retreiving the SparkContext\n",
    "sc = spark_session.sparkContext\n",
    "\n",
    "# Adjusting the log messages \n",
    "sc.setLogLevel(\"ERROR\")"
   ]
  },
  {
   "cell_type": "code",
   "execution_count": 2,
   "id": "366ae7dd-b1d6-420b-b740-67ada8c868b9",
   "metadata": {},
   "outputs": [
    {
     "name": "stderr",
     "output_type": "stream",
     "text": [
      "                                                                                \r"
     ]
    },
    {
     "name": "stdout",
     "output_type": "stream",
     "text": [
      "root\n",
      " |-- _corrupt_record: string (nullable = true)\n",
      " |-- author: string (nullable = true)\n",
      " |-- body: string (nullable = true)\n",
      " |-- content: string (nullable = true)\n",
      " |-- content_len: long (nullable = true)\n",
      " |-- id: string (nullable = true)\n",
      " |-- normalizedBody: string (nullable = true)\n",
      " |-- subreddit: string (nullable = true)\n",
      " |-- subreddit_id: string (nullable = true)\n",
      " |-- summary: string (nullable = true)\n",
      " |-- summary_len: long (nullable = true)\n",
      " |-- title: string (nullable = true)\n",
      "\n"
     ]
    }
   ],
   "source": [
    "# Reading and printing the schema of the partitioned data\n",
    "test_data = spark_session.read.json(\"/home/ubuntu/partition1_00\")\n",
    "test_data.printSchema()"
   ]
  },
  {
   "cell_type": "code",
   "execution_count": null,
   "id": "3d9eb7e4-8662-43f9-8ad5-c7bda46a5b27",
   "metadata": {},
   "outputs": [
    {
     "name": "stderr",
     "output_type": "stream",
     "text": [
      "[Stage 0:>                                                        (0 + 0) / 147]\r"
     ]
    }
   ],
   "source": [
    "# Reading the full data file\n",
    "df = spark_session.read.json(\"hdfs://host-192-168-2-244-de1:9000/user/ubuntu/corpus-webis-tldr-17.json\")"
   ]
  },
  {
   "cell_type": "code",
   "execution_count": 3,
   "id": "afcff98c-fe72-48dc-bfa3-363a154ab70c",
   "metadata": {},
   "outputs": [
    {
     "name": "stdout",
     "output_type": "stream",
     "text": [
      "root\n",
      " |-- author: string (nullable = true)\n",
      " |-- body: string (nullable = true)\n",
      " |-- content: string (nullable = true)\n",
      " |-- content_len: long (nullable = true)\n",
      " |-- id: string (nullable = true)\n",
      " |-- normalizedBody: string (nullable = true)\n",
      " |-- subreddit: string (nullable = true)\n",
      " |-- subreddit_id: string (nullable = true)\n",
      " |-- summary: string (nullable = true)\n",
      " |-- summary_len: long (nullable = true)\n",
      " |-- title: string (nullable = true)\n",
      "\n"
     ]
    }
   ],
   "source": [
    "# Printing the schema\n",
    "df.printSchema()"
   ]
  },
  {
   "cell_type": "code",
   "execution_count": 4,
   "id": "eb885f50-36b1-4518-aeb5-a7bd95a6ca91",
   "metadata": {},
   "outputs": [
    {
     "name": "stderr",
     "output_type": "stream",
     "text": [
      "                                                                                \r"
     ]
    },
    {
     "data": {
      "text/plain": [
       "3848330"
      ]
     },
     "execution_count": 4,
     "metadata": {},
     "output_type": "execute_result"
    }
   ],
   "source": [
    "# Counting the datapoints\n",
    "df.count()"
   ]
  },
  {
   "cell_type": "code",
   "execution_count": 21,
   "id": "a430c217-343e-4214-a656-35316b5b72af",
   "metadata": {},
   "outputs": [
    {
     "name": "stderr",
     "output_type": "stream",
     "text": [
      "                                                                                \r"
     ]
    },
    {
     "data": {
      "text/plain": [
       "3848330"
      ]
     },
     "execution_count": 21,
     "metadata": {},
     "output_type": "execute_result"
    }
   ],
   "source": [
    "# Filtering to check if content_len is null\n",
    "filter1 = df.filter(df['content_len'].isNotNull())\n",
    "filter1.count()"
   ]
  },
  {
   "cell_type": "code",
   "execution_count": 22,
   "id": "5a14c228-ef71-479c-911b-32aa3abbf722",
   "metadata": {},
   "outputs": [
    {
     "name": "stderr",
     "output_type": "stream",
     "text": [
      "                                                                                \r"
     ]
    },
    {
     "data": {
      "text/plain": [
       "3848330"
      ]
     },
     "execution_count": 22,
     "metadata": {},
     "output_type": "execute_result"
    }
   ],
   "source": [
    "# Filtering to check if body is null\n",
    "filter2 = df.filter(df['body'].isNotNull())\n",
    "filter1.count()"
   ]
  },
  {
   "cell_type": "code",
   "execution_count": 5,
   "id": "554147c3-d201-4fc1-9df9-8823d99e6a20",
   "metadata": {},
   "outputs": [
    {
     "name": "stderr",
     "output_type": "stream",
     "text": [
      "                                                                                \r"
     ]
    },
    {
     "data": {
      "text/plain": [
       "1763029"
      ]
     },
     "execution_count": 5,
     "metadata": {},
     "output_type": "execute_result"
    }
   ],
   "source": [
    "# Filtering to remove comments(they havd title as null)\n",
    "pp_df = df.filter(df['title'].isNotNull())\n",
    "pp_df.count()"
   ]
  },
  {
   "cell_type": "code",
   "execution_count": 43,
   "id": "96b5ab60-5f96-4ea5-a6f8-c05316856454",
   "metadata": {},
   "outputs": [
    {
     "name": "stderr",
     "output_type": "stream",
     "text": [
      "[Stage 3:=============================>                             (2 + 2) / 4]\r"
     ]
    },
    {
     "name": "stdout",
     "output_type": "stream",
     "text": [
      "+------------+-------------------+---------------+-------------------+\n",
      "|subreddit_id|          subreddit|subreddit_count|average_content_len|\n",
      "+------------+-------------------+---------------+-------------------+\n",
      "|    t5_2qh1i|          AskReddit|         589947| 228.36230373236918|\n",
      "|    t5_2qjvn|      relationships|         352049|  459.7823598419538|\n",
      "|    t5_2rfxx|    leagueoflegends|         109307|  212.9319165286761|\n",
      "|    t5_2to41|               tifu|          52219|  345.2679867481185|\n",
      "|    t5_2r0cn|relationship_advice|          50416|  452.3981275785465|\n",
      "|    t5_2r9vp|              trees|          47286| 229.52611766696273|\n",
      "|    t5_2qh03|             gaming|          43851| 189.46831315135344|\n",
      "|    t5_2qh2p|            atheism|          43268|  243.4542386983452|\n",
      "|    t5_2s7tt|      AdviceAnimals|          40783| 174.43800112792096|\n",
      "|    t5_2qh33|              funny|          40171| 156.70000746807398|\n",
      "+------------+-------------------+---------------+-------------------+\n",
      "only showing top 10 rows\n",
      "\n"
     ]
    },
    {
     "name": "stderr",
     "output_type": "stream",
     "text": [
      "                                                                                \r"
     ]
    }
   ],
   "source": [
    "# Finding the top 10 subreddits based on count of posts and comments along with average content_length of each subreddit\n",
    "res_whole = df.select('subreddit', 'subreddit_id', 'content_len') \\\n",
    "  .groupBy('subreddit_id', 'subreddit') \\\n",
    "  .agg(F.count('subreddit_id').alias('subreddit_count'),\n",
    "       F.avg('content_len').alias('average_content_len')) \\\n",
    "  .orderBy(F.desc('subreddit_count'))\n",
    "\n",
    "res_whole.show(10)"
   ]
  },
  {
   "cell_type": "code",
   "execution_count": 7,
   "id": "265d81a4-7f7f-49a6-b2ed-69a34175c75a",
   "metadata": {},
   "outputs": [
    {
     "name": "stderr",
     "output_type": "stream",
     "text": [
      "[Stage 12:>                                                         (0 + 2) / 2]\r"
     ]
    },
    {
     "name": "stdout",
     "output_type": "stream",
     "text": [
      "+------------+-------------------+---------------+-------------------+\n",
      "|subreddit_id|          subreddit|subreddit_count|average_content_len|\n",
      "+------------+-------------------+---------------+-------------------+\n",
      "|    t5_2qjvn|      relationships|         348493|  462.2536521537018|\n",
      "|    t5_2qh1i|          AskReddit|         100498| 269.38906246890485|\n",
      "|    t5_2rfxx|    leagueoflegends|          61912|    246.47417301977|\n",
      "|    t5_2to41|               tifu|          50243|  352.5128674641244|\n",
      "|    t5_2r0cn|relationship_advice|          46339| 472.32674421113967|\n",
      "|    t5_2r9vp|              trees|          31334| 261.78971724005874|\n",
      "|    t5_2qh3p|                sex|          18862|  328.2478528257873|\n",
      "|    t5_2qh2p|            atheism|          15167|  331.3584097052812|\n",
      "|    t5_2ranw|         offmychest|          15124|  609.6938640571277|\n",
      "|    t5_2vq0w|     DestinyTheGame|          14313|  314.8230978830434|\n",
      "+------------+-------------------+---------------+-------------------+\n",
      "only showing top 10 rows\n",
      "\n"
     ]
    },
    {
     "name": "stderr",
     "output_type": "stream",
     "text": [
      "                                                                                \r"
     ]
    }
   ],
   "source": [
    "# Finding the top 10 subreddits based on count of posts and along with average content_length of each subreddit\n",
    "res = pp_df.select('subreddit', 'subreddit_id', 'content_len') \\\n",
    "  .groupBy('subreddit_id', 'subreddit') \\\n",
    "  .agg(F.count('subreddit_id').alias('subreddit_count'),\n",
    "       F.avg('content_len').alias('average_content_len')) \\\n",
    "  .orderBy(F.desc('subreddit_count'))\n",
    "\n",
    "res.show(10)"
   ]
  },
  {
   "cell_type": "code",
   "execution_count": 8,
   "id": "4a661047-1bdb-4004-ae6e-529ca9f49391",
   "metadata": {},
   "outputs": [
    {
     "name": "stderr",
     "output_type": "stream",
     "text": [
      "                                                                                \r"
     ]
    },
    {
     "name": "stdout",
     "output_type": "stream",
     "text": [
      "+------------------------+\n",
      "|avg(average_content_len)|\n",
      "+------------------------+\n",
      "|      273.13985232754436|\n",
      "+------------------------+\n",
      "\n"
     ]
    }
   ],
   "source": [
    "# Average content length of all subreddits considering both posts and comments\n",
    "res_whole.agg(F.avg('average_content_len')).show()"
   ]
  },
  {
   "cell_type": "code",
   "execution_count": 9,
   "id": "f1cfdbc1-609f-4d48-b342-3b022ca65e25",
   "metadata": {},
   "outputs": [
    {
     "name": "stderr",
     "output_type": "stream",
     "text": [
      "                                                                                \r"
     ]
    },
    {
     "name": "stdout",
     "output_type": "stream",
     "text": [
      "+------------------------+\n",
      "|avg(average_content_len)|\n",
      "+------------------------+\n",
      "|      307.49041955542054|\n",
      "+------------------------+\n",
      "\n"
     ]
    }
   ],
   "source": [
    "# Average content length of all subreddits considering only posts \n",
    "res.agg(F.avg('average_content_len')).show()"
   ]
  },
  {
   "cell_type": "code",
   "execution_count": 40,
   "id": "e237a76f-54ba-4664-9b31-9341110c31e4",
   "metadata": {},
   "outputs": [],
   "source": [
    "# Shutting down Spark\n",
    "sc.stop()"
   ]
  }
 ],
 "metadata": {
  "kernelspec": {
   "display_name": "Python 3 (ipykernel)",
   "language": "python",
   "name": "python3"
  },
  "language_info": {
   "codemirror_mode": {
    "name": "ipython",
    "version": 3
   },
   "file_extension": ".py",
   "mimetype": "text/x-python",
   "name": "python",
   "nbconvert_exporter": "python",
   "pygments_lexer": "ipython3",
   "version": "3.8.10"
  }
 },
 "nbformat": 4,
 "nbformat_minor": 5
}
