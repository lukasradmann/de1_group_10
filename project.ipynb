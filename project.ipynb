{
 "cells": [
  {
   "cell_type": "code",
   "execution_count": 29,
   "id": "3f69d1e6-f7e8-461a-9652-2748aa8fa1e6",
   "metadata": {},
   "outputs": [],
   "source": [
    "import numpy as np\n",
    "import pandas as pd\n",
    "import pyspark\n",
    "from pyspark import SparkConf, SparkContext\n",
    "from pyspark.sql import SparkSession, SQLContext\n",
    "from pyspark.sql.types import *\n",
    "from pyspark.sql import functions as F\n",
    "\n",
    "spark_session = SparkSession\\\n",
    "        .builder\\\n",
    "        .master(\"spark://192.168.2.244:7077\") \\\n",
    "        .appName(\"Group10_DE\")\\\n",
    "        .config(\"spark.dynamicAllocation.enabled\", True)\\\n",
    "        .config(\"spark.dynamicAllocation.shuffleTracking.enabled\",True)\\\n",
    "        .config(\"spark.shuffle.service.enabled\", False)\\\n",
    "        .config(\"spark.dynamicAllocation.executorIdleTimeout\",\"300s\")\\\n",
    "        .config(\"spark.executor.cores\",2)\\\n",
    "        .config(\"spark.driver.port\",9999)\\\n",
    "        .config(\"spark.blockManager.port\",10005)\\\n",
    "        .getOrCreate()\n",
    "\n",
    "sc = spark_session.sparkContext\n",
    "\n",
    "sc.setLogLevel(\"ERROR\")\n"
   ]
  },
  {
   "cell_type": "code",
   "execution_count": 30,
   "id": "3d9eb7e4-8662-43f9-8ad5-c7bda46a5b27",
   "metadata": {},
   "outputs": [
    {
     "name": "stderr",
     "output_type": "stream",
     "text": [
      "                                                                                \r"
     ]
    }
   ],
   "source": [
    "df = spark_session.read.json(\"hdfs://host-192-168-2-244-de1:9000/user/ubuntu/corpus-webis-tldr-17.json\")\n"
   ]
  },
  {
   "cell_type": "code",
   "execution_count": 31,
   "id": "afcff98c-fe72-48dc-bfa3-363a154ab70c",
   "metadata": {},
   "outputs": [
    {
     "name": "stdout",
     "output_type": "stream",
     "text": [
      "root\n",
      " |-- author: string (nullable = true)\n",
      " |-- body: string (nullable = true)\n",
      " |-- content: string (nullable = true)\n",
      " |-- content_len: long (nullable = true)\n",
      " |-- id: string (nullable = true)\n",
      " |-- normalizedBody: string (nullable = true)\n",
      " |-- subreddit: string (nullable = true)\n",
      " |-- subreddit_id: string (nullable = true)\n",
      " |-- summary: string (nullable = true)\n",
      " |-- summary_len: long (nullable = true)\n",
      " |-- title: string (nullable = true)\n",
      "\n"
     ]
    }
   ],
   "source": [
    "df.printSchema()"
   ]
  },
  {
   "cell_type": "code",
   "execution_count": 37,
   "id": "eb885f50-36b1-4518-aeb5-a7bd95a6ca91",
   "metadata": {},
   "outputs": [
    {
     "name": "stderr",
     "output_type": "stream",
     "text": [
      "                                                                                \r"
     ]
    },
    {
     "data": {
      "text/plain": [
       "3848330"
      ]
     },
     "execution_count": 37,
     "metadata": {},
     "output_type": "execute_result"
    }
   ],
   "source": [
    "df.count()"
   ]
  },
  {
   "cell_type": "code",
   "execution_count": 36,
   "id": "da5f656a-fd72-4d6e-835b-e9ae8ab24585",
   "metadata": {},
   "outputs": [
    {
     "name": "stderr",
     "output_type": "stream",
     "text": [
      "                                                                                \r"
     ]
    },
    {
     "data": {
      "text/plain": [
       "1762893"
      ]
     },
     "execution_count": 36,
     "metadata": {},
     "output_type": "execute_result"
    }
   ],
   "source": [
    "pp_df = df.na.drop('any')\n",
    "pp_df.count()"
   ]
  },
  {
   "cell_type": "code",
   "execution_count": 38,
   "id": "74a2a415-747c-4789-b345-9262ccdb1b9f",
   "metadata": {},
   "outputs": [
    {
     "name": "stderr",
     "output_type": "stream",
     "text": [
      "[Stage 10:>                                                         (0 + 6) / 6]\r"
     ]
    },
    {
     "name": "stdout",
     "output_type": "stream",
     "text": [
      "+------------+-------------------+---------------+-------------------+\n",
      "|subreddit_id|          subreddit|subreddit_count|average_content_len|\n",
      "+------------+-------------------+---------------+-------------------+\n",
      "|    t5_2qjvn|      relationships|         348493|  462.2536521537018|\n",
      "|    t5_2qh1i|          AskReddit|         100498| 269.38906246890485|\n",
      "|    t5_2rfxx|    leagueoflegends|          61912|    246.47417301977|\n",
      "|    t5_2to41|               tifu|          50243|  352.5128674641244|\n",
      "|    t5_2r0cn|relationship_advice|          46339| 472.32674421113967|\n",
      "|    t5_2r9vp|              trees|          31334| 261.78971724005874|\n",
      "|    t5_2qh3p|                sex|          18862|  328.2478528257873|\n",
      "|    t5_2qh2p|            atheism|          15167|  331.3584097052812|\n",
      "|    t5_2ranw|         offmychest|          15124|  609.6938640571277|\n",
      "|    t5_2vq0w|     DestinyTheGame|          14313|  314.8230978830434|\n",
      "+------------+-------------------+---------------+-------------------+\n",
      "only showing top 10 rows\n",
      "\n"
     ]
    },
    {
     "name": "stderr",
     "output_type": "stream",
     "text": [
      "                                                                                \r"
     ]
    }
   ],
   "source": [
    "\n",
    "res = pp_df.select('subreddit', 'subreddit_id', 'content_len') \\\n",
    "  .groupBy('subreddit_id', 'subreddit') \\\n",
    "  .agg(F.count('subreddit_id').alias('subreddit_count'),\n",
    "       F.avg('content_len').alias('average_content_len')) \\\n",
    "  .orderBy(F.desc('subreddit_count'))\n",
    "\n",
    "res.show(10)"
   ]
  },
  {
   "cell_type": "code",
   "execution_count": 40,
   "id": "ce5eebde-4376-44a3-9b42-06013f0a78ba",
   "metadata": {},
   "outputs": [
    {
     "name": "stderr",
     "output_type": "stream",
     "text": [
      "[Stage 15:======================================>                   (4 + 2) / 6]\r"
     ]
    },
    {
     "name": "stdout",
     "output_type": "stream",
     "text": [
      "+------------------------+\n",
      "|avg(average_content_len)|\n",
      "+------------------------+\n",
      "|      307.49167245323974|\n",
      "+------------------------+\n",
      "\n"
     ]
    },
    {
     "name": "stderr",
     "output_type": "stream",
     "text": [
      "                                                                                \r"
     ]
    }
   ],
   "source": [
    "res.agg(F.avg('average_content_len')).show()"
   ]
  },
  {
   "cell_type": "code",
   "execution_count": 41,
   "id": "e237a76f-54ba-4664-9b31-9341110c31e4",
   "metadata": {},
   "outputs": [],
   "source": [
    "sc.stop()"
   ]
  }
 ],
 "metadata": {
  "kernelspec": {
   "display_name": "Python 3 (ipykernel)",
   "language": "python",
   "name": "python3"
  },
  "language_info": {
   "codemirror_mode": {
    "name": "ipython",
    "version": 3
   },
   "file_extension": ".py",
   "mimetype": "text/x-python",
   "name": "python",
   "nbconvert_exporter": "python",
   "pygments_lexer": "ipython3",
   "version": "3.8.10"
  }
 },
 "nbformat": 4,
 "nbformat_minor": 5
}
